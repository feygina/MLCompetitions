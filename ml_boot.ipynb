{
 "cells": [
  {
   "cell_type": "markdown",
   "metadata": {},
   "source": [
    "read train data"
   ]
  },
  {
   "cell_type": "code",
   "execution_count": 25,
   "metadata": {
    "collapsed": true
   },
   "outputs": [],
   "source": [
    "%matplotlib inline\n",
    "import numpy as np\n",
    "import pandas as pd\n",
    "import matplotlib.pyplot as plt\n",
    "from sklearn import ensemble\n",
    "from sklearn.cross_validation import train_test_split\n",
    "from sklearn import svm\n",
    "from sklearn import cross_validation"
   ]
  },
  {
   "cell_type": "code",
   "execution_count": 26,
   "metadata": {
    "collapsed": true
   },
   "outputs": [],
   "source": [
    "X = pd.read_csv('x_train.csv', header=None, na_values='?')\n",
    "y = pd.read_csv('y_train.csv', header=None, na_values='?')"
   ]
  },
  {
   "cell_type": "markdown",
   "metadata": {},
   "source": [
    "name columns"
   ]
  },
  {
   "cell_type": "code",
   "execution_count": 27,
   "metadata": {
    "collapsed": false
   },
   "outputs": [
    {
     "data": {
      "text/html": [
       "<div>\n",
       "<table border=\"1\" class=\"dataframe\">\n",
       "  <thead>\n",
       "    <tr style=\"text-align: right;\">\n",
       "      <th></th>\n",
       "      <th>A1</th>\n",
       "      <th>A2</th>\n",
       "      <th>A3</th>\n",
       "      <th>A4</th>\n",
       "      <th>A5</th>\n",
       "      <th>A6</th>\n",
       "      <th>A7</th>\n",
       "      <th>A8</th>\n",
       "      <th>A9</th>\n",
       "      <th>A10</th>\n",
       "      <th>...</th>\n",
       "      <th>A21</th>\n",
       "      <th>A22</th>\n",
       "      <th>A23</th>\n",
       "      <th>A24</th>\n",
       "      <th>A25</th>\n",
       "      <th>A26</th>\n",
       "      <th>A27</th>\n",
       "      <th>A28</th>\n",
       "      <th>A29</th>\n",
       "      <th>A30</th>\n",
       "    </tr>\n",
       "  </thead>\n",
       "  <tbody>\n",
       "    <tr>\n",
       "      <th>0</th>\n",
       "      <td>1</td>\n",
       "      <td>1</td>\n",
       "      <td>1</td>\n",
       "      <td>1</td>\n",
       "      <td>0</td>\n",
       "      <td>0</td>\n",
       "      <td>0</td>\n",
       "      <td>1</td>\n",
       "      <td>0</td>\n",
       "      <td>0</td>\n",
       "      <td>...</td>\n",
       "      <td>1</td>\n",
       "      <td>1</td>\n",
       "      <td>1</td>\n",
       "      <td>1</td>\n",
       "      <td>1</td>\n",
       "      <td>0</td>\n",
       "      <td>1</td>\n",
       "      <td>1</td>\n",
       "      <td>0</td>\n",
       "      <td>1</td>\n",
       "    </tr>\n",
       "    <tr>\n",
       "      <th>1</th>\n",
       "      <td>1</td>\n",
       "      <td>0</td>\n",
       "      <td>1</td>\n",
       "      <td>0</td>\n",
       "      <td>0</td>\n",
       "      <td>0</td>\n",
       "      <td>1</td>\n",
       "      <td>1</td>\n",
       "      <td>0</td>\n",
       "      <td>1</td>\n",
       "      <td>...</td>\n",
       "      <td>1</td>\n",
       "      <td>1</td>\n",
       "      <td>1</td>\n",
       "      <td>0</td>\n",
       "      <td>1</td>\n",
       "      <td>0</td>\n",
       "      <td>0</td>\n",
       "      <td>1</td>\n",
       "      <td>0</td>\n",
       "      <td>0</td>\n",
       "    </tr>\n",
       "    <tr>\n",
       "      <th>2</th>\n",
       "      <td>0</td>\n",
       "      <td>1</td>\n",
       "      <td>1</td>\n",
       "      <td>0</td>\n",
       "      <td>0</td>\n",
       "      <td>0</td>\n",
       "      <td>0</td>\n",
       "      <td>1</td>\n",
       "      <td>1</td>\n",
       "      <td>1</td>\n",
       "      <td>...</td>\n",
       "      <td>1</td>\n",
       "      <td>1</td>\n",
       "      <td>0</td>\n",
       "      <td>0</td>\n",
       "      <td>1</td>\n",
       "      <td>1</td>\n",
       "      <td>1</td>\n",
       "      <td>0</td>\n",
       "      <td>1</td>\n",
       "      <td>0</td>\n",
       "    </tr>\n",
       "    <tr>\n",
       "      <th>3</th>\n",
       "      <td>1</td>\n",
       "      <td>0</td>\n",
       "      <td>1</td>\n",
       "      <td>1</td>\n",
       "      <td>0</td>\n",
       "      <td>1</td>\n",
       "      <td>0</td>\n",
       "      <td>1</td>\n",
       "      <td>1</td>\n",
       "      <td>0</td>\n",
       "      <td>...</td>\n",
       "      <td>0</td>\n",
       "      <td>1</td>\n",
       "      <td>0</td>\n",
       "      <td>0</td>\n",
       "      <td>1</td>\n",
       "      <td>0</td>\n",
       "      <td>1</td>\n",
       "      <td>1</td>\n",
       "      <td>1</td>\n",
       "      <td>0</td>\n",
       "    </tr>\n",
       "    <tr>\n",
       "      <th>4</th>\n",
       "      <td>1</td>\n",
       "      <td>1</td>\n",
       "      <td>0</td>\n",
       "      <td>0</td>\n",
       "      <td>1</td>\n",
       "      <td>0</td>\n",
       "      <td>0</td>\n",
       "      <td>1</td>\n",
       "      <td>0</td>\n",
       "      <td>1</td>\n",
       "      <td>...</td>\n",
       "      <td>1</td>\n",
       "      <td>1</td>\n",
       "      <td>0</td>\n",
       "      <td>1</td>\n",
       "      <td>1</td>\n",
       "      <td>1</td>\n",
       "      <td>1</td>\n",
       "      <td>0</td>\n",
       "      <td>1</td>\n",
       "      <td>1</td>\n",
       "    </tr>\n",
       "  </tbody>\n",
       "</table>\n",
       "<p>5 rows × 30 columns</p>\n",
       "</div>"
      ],
      "text/plain": [
       "   A1  A2  A3  A4  A5  A6  A7  A8  A9  A10 ...   A21  A22  A23  A24  A25  A26  \\\n",
       "0   1   1   1   1   0   0   0   1   0    0 ...     1    1    1    1    1    0   \n",
       "1   1   0   1   0   0   0   1   1   0    1 ...     1    1    1    0    1    0   \n",
       "2   0   1   1   0   0   0   0   1   1    1 ...     1    1    0    0    1    1   \n",
       "3   1   0   1   1   0   1   0   1   1    0 ...     0    1    0    0    1    0   \n",
       "4   1   1   0   0   1   0   0   1   0    1 ...     1    1    0    1    1    1   \n",
       "\n",
       "   A27  A28  A29  A30  \n",
       "0    1    1    0    1  \n",
       "1    0    1    0    0  \n",
       "2    1    0    1    0  \n",
       "3    1    1    1    0  \n",
       "4    1    0    1    1  \n",
       "\n",
       "[5 rows x 30 columns]"
      ]
     },
     "execution_count": 27,
     "metadata": {},
     "output_type": "execute_result"
    }
   ],
   "source": [
    "X.columns = ['A' + str(i) for i in range(1, len(X.columns)+1)]\n",
    "y.columns = ['class']\n",
    "y = y['class']\n",
    "X.head()"
   ]
  },
  {
   "cell_type": "code",
   "execution_count": 28,
   "metadata": {
    "collapsed": false
   },
   "outputs": [
    {
     "data": {
      "text/plain": [
       "A1     210\n",
       "A2     210\n",
       "A3     210\n",
       "A4     210\n",
       "A5     210\n",
       "A6     210\n",
       "A7     210\n",
       "A8     210\n",
       "A9     210\n",
       "A10    210\n",
       "A11    210\n",
       "A12    210\n",
       "A13    210\n",
       "A14    210\n",
       "A15    210\n",
       "A16    210\n",
       "A17    210\n",
       "A18    210\n",
       "A19    210\n",
       "A20    210\n",
       "A21    210\n",
       "A22    210\n",
       "A23    210\n",
       "A24    210\n",
       "A25    210\n",
       "A26    210\n",
       "A27    210\n",
       "A28    210\n",
       "A29    210\n",
       "A30    210\n",
       "dtype: int64"
      ]
     },
     "execution_count": 28,
     "metadata": {},
     "output_type": "execute_result"
    }
   ],
   "source": [
    "X.count(axis=0)"
   ]
  },
  {
   "cell_type": "markdown",
   "metadata": {},
   "source": [
    "split data"
   ]
  },
  {
   "cell_type": "code",
   "execution_count": 29,
   "metadata": {
    "collapsed": false
   },
   "outputs": [
    {
     "name": "stdout",
     "output_type": "stream",
     "text": [
      "Feature importance:\n",
      " 1. feature 'A22  ' (0.0409)\n",
      " 2. feature 'A20  ' (0.0393)\n",
      " 3. feature 'A21  ' (0.0380)\n",
      " 4. feature 'A1   ' (0.0378)\n",
      " 5. feature 'A2   ' (0.0377)\n",
      " 6. feature 'A8   ' (0.0375)\n",
      " 7. feature 'A5   ' (0.0368)\n",
      " 8. feature 'A25  ' (0.0366)\n",
      " 9. feature 'A11  ' (0.0365)\n",
      "10. feature 'A28  ' (0.0363)\n",
      "11. feature 'A18  ' (0.0356)\n",
      "12. feature 'A7   ' (0.0342)\n",
      "13. feature 'A19  ' (0.0342)\n",
      "14. feature 'A26  ' (0.0334)\n",
      "15. feature 'A12  ' (0.0329)\n",
      "16. feature 'A17  ' (0.0328)\n",
      "17. feature 'A4   ' (0.0326)\n",
      "18. feature 'A29  ' (0.0325)\n",
      "19. feature 'A9   ' (0.0318)\n",
      "20. feature 'A14  ' (0.0317)\n",
      "21. feature 'A13  ' (0.0314)\n",
      "22. feature 'A24  ' (0.0310)\n",
      "23. feature 'A3   ' (0.0307)\n",
      "24. feature 'A10  ' (0.0301)\n",
      "25. feature 'A23  ' (0.0298)\n",
      "26. feature 'A15  ' (0.0289)\n",
      "27. feature 'A30  ' (0.0286)\n",
      "28. feature 'A27  ' (0.0279)\n",
      "29. feature 'A6   ' (0.0270)\n",
      "30. feature 'A16  ' (0.0255)\n"
     ]
    }
   ],
   "source": [
    "X_train, X_test, y_train, y_test = train_test_split(X, y, test_size=0.3, random_state=123)\n",
    "\n",
    "model_rfc = ensemble.RandomForestClassifier(n_estimators=100, random_state=123)\n",
    "model_rfc.fit(X_train, y_train)\n",
    "\n",
    "importance = model_rfc.feature_importances_\n",
    "indices = np.argsort(importance)[::-1]\n",
    "print(\"Feature importance:\")\n",
    "for f, idx in enumerate(indices):\n",
    "    print(\"{:2d}. feature '{:5s}' ({:.4f})\".format(f + 1, X.columns[idx], importance[idx]))"
   ]
  },
  {
   "cell_type": "code",
   "execution_count": 30,
   "metadata": {
    "collapsed": false
   },
   "outputs": [
    {
     "name": "stdout",
     "output_type": "stream",
     "text": [
      "Mean err: 63.679%\n"
     ]
    }
   ],
   "source": [
    "clf = svm.SVC(kernel='linear', C=1)\n",
    "scores = cross_validation.cross_val_score(clf, X, y, cv=10)\n",
    "print(\"Mean err: {:.3f}%\".format(100*(1-np.mean(scores))))"
   ]
  },
  {
   "cell_type": "code",
   "execution_count": null,
   "metadata": {
    "collapsed": true
   },
   "outputs": [],
   "source": []
  },
  {
   "cell_type": "code",
   "execution_count": null,
   "metadata": {
    "collapsed": true
   },
   "outputs": [],
   "source": []
  }
 ],
 "metadata": {
  "kernelspec": {
   "display_name": "Python 3",
   "language": "python",
   "name": "python3"
  },
  "language_info": {
   "codemirror_mode": {
    "name": "ipython",
    "version": 3
   },
   "file_extension": ".py",
   "mimetype": "text/x-python",
   "name": "python",
   "nbconvert_exporter": "python",
   "pygments_lexer": "ipython3",
   "version": "3.4.3"
  }
 },
 "nbformat": 4,
 "nbformat_minor": 0
}
